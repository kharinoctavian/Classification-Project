{
  "nbformat": 4,
  "nbformat_minor": 0,
  "metadata": {
    "colab": {
      "provenance": []
    },
    "kernelspec": {
      "name": "python3",
      "display_name": "Python 3"
    },
    "language_info": {
      "name": "python"
    }
  },
  "cells": [
    {
      "cell_type": "code",
      "execution_count": null,
      "metadata": {
        "id": "QWmzdZtSARgM"
      },
      "outputs": [],
      "source": [
        "from sklearn.neighbors import KNeighborsClassifier\n",
        "import numpy as np\n",
        "import pandas as pd\n",
        "from sklearn.model_selection import train_test_split\n",
        "from sklearn.metrics import accuracy_score, recall_score, confusion_matrix\n",
        "from sklearn import metrics"
      ]
    },
    {
      "cell_type": "code",
      "source": [
        "datatrain=pd.read_csv(r'data train numerik no box 20 k5 91.csv')\n",
        "datatrain.head"
      ],
      "metadata": {
        "colab": {
          "base_uri": "https://localhost:8080/"
        },
        "id": "lxaaZC2FQZQP",
        "outputId": "291d71c9-39e9-4fdf-9eda-106927af3003"
      },
      "execution_count": null,
      "outputs": [
        {
          "output_type": "execute_result",
          "data": {
            "text/plain": [
              "<bound method NDFrame.head of      JENIS_KAPAL  DERMAGA  PALKA   BD  SHIFTING  WAG  BAD_WEATHER  JUMLAH_CC  \\\n",
              "0              0        3     22  182       158    0            0          4   \n",
              "1              1        3     23   40        21    0          235          3   \n",
              "2              0        4     40   13       233    0           44          4   \n",
              "3              1        4     13   12        65    0            0          2   \n",
              "4              0        4     27  371       362    0            0          4   \n",
              "..           ...      ...    ...  ...       ...  ...          ...        ...   \n",
              "131            1        4     26   88       277    0          203          3   \n",
              "132            1        3     18    1         3    0            0          3   \n",
              "133            1        2     16  180        73    0            0          2   \n",
              "134            1        3     19   53        19    0          132          3   \n",
              "135            1        3     42  215       341    0            0          4   \n",
              "\n",
              "     DISCHARGE  LOADING  DELAY  \n",
              "0         1254      886      2  \n",
              "1          945      285      0  \n",
              "2         1728     1466      0  \n",
              "3          531      310      0  \n",
              "4         1325     1534      0  \n",
              "..         ...      ...    ...  \n",
              "131       1482     1532      0  \n",
              "132        657      183      0  \n",
              "133        384      446      2  \n",
              "134        351      439      0  \n",
              "135       1275     1352      2  \n",
              "\n",
              "[136 rows x 11 columns]>"
            ]
          },
          "metadata": {},
          "execution_count": 2
        }
      ]
    },
    {
      "cell_type": "code",
      "source": [
        "datatrain.groupby('DELAY').size()"
      ],
      "metadata": {
        "colab": {
          "base_uri": "https://localhost:8080/"
        },
        "id": "vOhKi1srUged",
        "outputId": "81bab2f4-6658-4802-9fdb-426b8d230c7c"
      },
      "execution_count": null,
      "outputs": [
        {
          "output_type": "execute_result",
          "data": {
            "text/plain": [
              "DELAY\n",
              "0    84\n",
              "1     7\n",
              "2    28\n",
              "dtype: int64"
            ]
          },
          "metadata": {},
          "execution_count": 19
        }
      ]
    },
    {
      "cell_type": "code",
      "source": [
        "datatrain.info()"
      ],
      "metadata": {
        "colab": {
          "base_uri": "https://localhost:8080/"
        },
        "id": "NFu02IXzQtYn",
        "outputId": "71f0d11a-68e5-4338-8b36-9d0e7ae5e3e2"
      },
      "execution_count": null,
      "outputs": [
        {
          "output_type": "stream",
          "name": "stdout",
          "text": [
            "<class 'pandas.core.frame.DataFrame'>\n",
            "RangeIndex: 136 entries, 0 to 135\n",
            "Data columns (total 11 columns):\n",
            " #   Column       Non-Null Count  Dtype\n",
            "---  ------       --------------  -----\n",
            " 0   JENIS_KAPAL  136 non-null    int64\n",
            " 1   DERMAGA      136 non-null    int64\n",
            " 2   PALKA        136 non-null    int64\n",
            " 3   BD           136 non-null    int64\n",
            " 4   SHIFTING     136 non-null    int64\n",
            " 5   WAG          136 non-null    int64\n",
            " 6   BAD_WEATHER  136 non-null    int64\n",
            " 7   JUMLAH_CC    136 non-null    int64\n",
            " 8   DISCHARGE    136 non-null    int64\n",
            " 9   LOADING      136 non-null    int64\n",
            " 10  DELAY        136 non-null    int64\n",
            "dtypes: int64(11)\n",
            "memory usage: 11.8 KB\n"
          ]
        }
      ]
    },
    {
      "cell_type": "code",
      "source": [
        "datatrain[\"DERMAGA\"]=datatrain[\"DERMAGA\"].astype('category')\n",
        "datatrain[\"JENIS_KAPAL\"]=datatrain[\"JENIS_KAPAL\"].astype('category')\n",
        "datatrain[\"DELAY\"]=datatrain[\"DELAY\"].astype('category')\n",
        "datatrain[\"PALKA\"]=datatrain[\"PALKA\"].astype('int')\n",
        "datatrain[\"BD\"]=datatrain[\"BD\"].astype('int')\n",
        "datatrain[\"SHIFTING\"]=datatrain[\"SHIFTING\"].astype('int')\n",
        "datatrain[\"WAG\"]=datatrain[\"WAG\"].astype('int')\n",
        "datatrain[\"BAD_WEATHER\"]=datatrain[\"BAD_WEATHER\"].astype('int')\n",
        "datatrain[\"JUMLAH_CC\"]=datatrain[\"JUMLAH_CC\"].astype('int')\n",
        "datatrain[\"DISCHARGE\"]=datatrain[\"DISCHARGE\"].astype('int')\n",
        "datatrain[\"LOADING\"]=datatrain[\"LOADING\"].astype('int')"
      ],
      "metadata": {
        "id": "RiyUL-8-RdOd"
      },
      "execution_count": null,
      "outputs": []
    },
    {
      "cell_type": "code",
      "source": [
        "datatrain.isnull().any()"
      ],
      "metadata": {
        "colab": {
          "base_uri": "https://localhost:8080/"
        },
        "id": "XttebaCMRlCn",
        "outputId": "3bde2488-0ab0-4d00-a9f2-06d9b1788778"
      },
      "execution_count": null,
      "outputs": [
        {
          "output_type": "execute_result",
          "data": {
            "text/plain": [
              "JENIS_KAPAL    False\n",
              "DERMAGA        False\n",
              "PALKA          False\n",
              "BD             False\n",
              "SHIFTING       False\n",
              "WAG            False\n",
              "BAD_WEATHER    False\n",
              "JUMLAH_CC      False\n",
              "DISCHARGE      False\n",
              "LOADING        False\n",
              "DELAY          False\n",
              "dtype: bool"
            ]
          },
          "metadata": {},
          "execution_count": 4
        }
      ]
    },
    {
      "cell_type": "code",
      "source": [
        "arr = datatrain.values\n",
        "X_train = arr[:, 0:10]\n",
        "Y_train = arr[:, 10]"
      ],
      "metadata": {
        "id": "2-19G0NCglV4"
      },
      "execution_count": null,
      "outputs": []
    },
    {
      "cell_type": "code",
      "source": [
        "X_train"
      ],
      "metadata": {
        "colab": {
          "base_uri": "https://localhost:8080/"
        },
        "id": "o27p-2V2w8vm",
        "outputId": "b9519c5e-3fb4-46fe-ae9d-104f1e2d602d"
      },
      "execution_count": null,
      "outputs": [
        {
          "output_type": "execute_result",
          "data": {
            "text/plain": [
              "array([[   1,    1,    8, ...,    3,  244,  454],\n",
              "       [   0,    4,   24, ...,    3, 1047, 1012],\n",
              "       [   1,    3,   42, ...,    4, 1275, 1352],\n",
              "       ...,\n",
              "       [   0,    3,   22, ...,    4, 1254,  886],\n",
              "       [   1,    4,   13, ...,    2,  253,  432],\n",
              "       [   1,    1,   10, ...,    2,  260,  363]])"
            ]
          },
          "metadata": {},
          "execution_count": 46
        }
      ]
    },
    {
      "cell_type": "code",
      "source": [
        "datatest=pd.read_csv(r'data test numerik no box 20 k5 91.csv')\n",
        "datatest.head"
      ],
      "metadata": {
        "colab": {
          "base_uri": "https://localhost:8080/"
        },
        "outputId": "bfc9c842-caa9-4f42-e0a7-fc4141ba0f76",
        "id": "Pewuwo-Yf5UJ"
      },
      "execution_count": null,
      "outputs": [
        {
          "output_type": "execute_result",
          "data": {
            "text/plain": [
              "<bound method NDFrame.head of     JENIS_KAPAL  DERMAGA  PALKA   BD  SHIFTING   WAG  BAD_WEATHER  JUMLAH_CC  \\\n",
              "0             0        4     29   28       230     0          141          3   \n",
              "1             1        4     11   16       178     0           35          2   \n",
              "2             1        2     13   63       143   111            0          2   \n",
              "3             0        1      5    0        35     0            0          2   \n",
              "4             1        1      9   47       160   231          102          2   \n",
              "5             1        3     29  192       361     0            0          3   \n",
              "6             1        4     29  273       215   126            0          3   \n",
              "7             1        4     29  118       227     0            0          3   \n",
              "8             1        2     11   82        46     0            5          2   \n",
              "9             1        4     11    0        43     0            0          2   \n",
              "10            1        4     29   54       249  1515            0          4   \n",
              "11            1        2      7   43        21     0          115          3   \n",
              "12            1        1     11    7       134     0          364          2   \n",
              "13            1        4     11   10       167   104            0          3   \n",
              "14            1        3     13    0       136     0            0          2   \n",
              "15            1        4     28  116       285     0          235          3   \n",
              "16            1        2      4   22         7     0          338          3   \n",
              "17            1        4      9   14        68     0            0          3   \n",
              "18            0        4     24   91        96     0            0          3   \n",
              "19            1        4     29  146       404   201            0          3   \n",
              "20            1        2     12   56        71     0            0          2   \n",
              "21            0        2     17   45        50     0          333          3   \n",
              "22            1        2      6   43        14     0            0          3   \n",
              "23            1        4     36   73       200   359            0          4   \n",
              "24            1        2      7    0        16     0            0          2   \n",
              "25            0        4     24   15       166     0            0          3   \n",
              "26            1        4      9    0        19     0            0          3   \n",
              "27            1        2      6   91         7     0            0          3   \n",
              "28            0        4     18   29       199     0            0          3   \n",
              "29            1        2      3   24         4     0            0          2   \n",
              "30            1        2      6   36        43     0            0          2   \n",
              "31            1        3     27    0        61     0          780          3   \n",
              "32            1        3     18   42        22     0            0          3   \n",
              "33            1        2     10   18       173   288            0          2   \n",
              "34            1        4     29  162       198   139            0          4   \n",
              "\n",
              "    DISCHARGE  LOADING  DELAY  \n",
              "0        1328     1076      2  \n",
              "1         132      661      0  \n",
              "2         120      431      0  \n",
              "3          98       41      0  \n",
              "4         140      452      0  \n",
              "5         900     1345      0  \n",
              "6        1297     1560      0  \n",
              "7        1297     1518      0  \n",
              "8         235      337      0  \n",
              "9         525      245      0  \n",
              "10       1472     1604      0  \n",
              "11        263      176      0  \n",
              "12        193      488      0  \n",
              "13        364      636      0  \n",
              "14        250      638      0  \n",
              "15       1217     1261      2  \n",
              "16        298       37      0  \n",
              "17        336      352      0  \n",
              "18       1047     1012      1  \n",
              "19       1339     1569      0  \n",
              "20        132      468      0  \n",
              "21        628      324      0  \n",
              "22        325      120      0  \n",
              "23       1030      908      1  \n",
              "24         86      130      0  \n",
              "25        980     1128      0  \n",
              "26        372      120      0  \n",
              "27        252      163      0  \n",
              "28        889     1049      0  \n",
              "29        157       37      0  \n",
              "30        224      193      0  \n",
              "31       1046      452      0  \n",
              "32        673      230      0  \n",
              "33        202      456      0  \n",
              "34       1262     1410      2  >"
            ]
          },
          "metadata": {},
          "execution_count": 6
        }
      ]
    },
    {
      "cell_type": "code",
      "source": [
        "datatest.info()"
      ],
      "metadata": {
        "colab": {
          "base_uri": "https://localhost:8080/"
        },
        "outputId": "da8859f9-c46b-4ed7-9534-7ae0e88d18bf",
        "id": "ksdHEpquf5UL"
      },
      "execution_count": null,
      "outputs": [
        {
          "output_type": "stream",
          "name": "stdout",
          "text": [
            "<class 'pandas.core.frame.DataFrame'>\n",
            "RangeIndex: 35 entries, 0 to 34\n",
            "Data columns (total 11 columns):\n",
            " #   Column       Non-Null Count  Dtype\n",
            "---  ------       --------------  -----\n",
            " 0   JENIS_KAPAL  35 non-null     int64\n",
            " 1   DERMAGA      35 non-null     int64\n",
            " 2   PALKA        35 non-null     int64\n",
            " 3   BD           35 non-null     int64\n",
            " 4   SHIFTING     35 non-null     int64\n",
            " 5   WAG          35 non-null     int64\n",
            " 6   BAD_WEATHER  35 non-null     int64\n",
            " 7   JUMLAH_CC    35 non-null     int64\n",
            " 8   DISCHARGE    35 non-null     int64\n",
            " 9   LOADING      35 non-null     int64\n",
            " 10  DELAY        35 non-null     int64\n",
            "dtypes: int64(11)\n",
            "memory usage: 3.1 KB\n"
          ]
        }
      ]
    },
    {
      "cell_type": "code",
      "source": [
        "datatest[\"DERMAGA\"]=datatest[\"DERMAGA\"].astype('category')\n",
        "datatest[\"JENIS_KAPAL\"]=datatest[\"JENIS_KAPAL\"].astype('category')\n",
        "datatest[\"DELAY\"]=datatest[\"DELAY\"].astype('category')\n",
        "datatest[\"PALKA\"]=datatest[\"PALKA\"].astype('int')\n",
        "datatest[\"BD\"]=datatest[\"BD\"].astype('int')\n",
        "datatest[\"SHIFTING\"]=datatest[\"SHIFTING\"].astype('int')\n",
        "datatest[\"WAG\"]=datatest[\"WAG\"].astype('int')\n",
        "datatest[\"BAD_WEATHER\"]=datatest[\"BAD_WEATHER\"].astype('int')\n",
        "datatest[\"JUMLAH_CC\"]=datatest[\"JUMLAH_CC\"].astype('int')\n",
        "datatest[\"DISCHARGE\"]=datatest[\"DISCHARGE\"].astype('int')\n",
        "datatest[\"LOADING\"]=datatest[\"LOADING\"].astype('int')"
      ],
      "metadata": {
        "id": "zpRvbXRkf5UM"
      },
      "execution_count": null,
      "outputs": []
    },
    {
      "cell_type": "code",
      "source": [
        "datatest.isnull().any()"
      ],
      "metadata": {
        "colab": {
          "base_uri": "https://localhost:8080/"
        },
        "outputId": "d20c0d7b-1bf1-4294-b580-9358054da707",
        "id": "IspD6Oakf5UM"
      },
      "execution_count": null,
      "outputs": [
        {
          "output_type": "execute_result",
          "data": {
            "text/plain": [
              "JENIS_KAPAL    False\n",
              "DERMAGA        False\n",
              "PALKA          False\n",
              "BD             False\n",
              "SHIFTING       False\n",
              "WAG            False\n",
              "BAD_WEATHER    False\n",
              "JUMLAH_CC      False\n",
              "DISCHARGE      False\n",
              "LOADING        False\n",
              "DELAY          False\n",
              "dtype: bool"
            ]
          },
          "metadata": {},
          "execution_count": 12
        }
      ]
    },
    {
      "cell_type": "code",
      "source": [
        "datatest.groupby('DELAY').size()"
      ],
      "metadata": {
        "colab": {
          "base_uri": "https://localhost:8080/"
        },
        "outputId": "b5b20f0b-25bf-4818-95a3-0131d29f8fac",
        "id": "U1uZelJVf5UN"
      },
      "execution_count": null,
      "outputs": [
        {
          "output_type": "execute_result",
          "data": {
            "text/plain": [
              "DELAY\n",
              "0    13\n",
              "1     1\n",
              "2     4\n",
              "dtype: int64"
            ]
          },
          "metadata": {},
          "execution_count": 51
        }
      ]
    },
    {
      "cell_type": "code",
      "source": [
        "arr = datatest.values\n",
        "X_test = arr[:, 0:10]\n",
        "Y_test = arr[:, 10]"
      ],
      "metadata": {
        "id": "dR9sa4APg9wx"
      },
      "execution_count": null,
      "outputs": []
    },
    {
      "cell_type": "code",
      "source": [
        "Y_test"
      ],
      "metadata": {
        "colab": {
          "base_uri": "https://localhost:8080/"
        },
        "id": "WLCuZFbEauKD",
        "outputId": "e6af1e34-4ba5-465e-eeb0-526a24b1b329"
      },
      "execution_count": null,
      "outputs": [
        {
          "output_type": "execute_result",
          "data": {
            "text/plain": [
              "array([0, 0, 0, 2, 0, 0, 0, 2, 1, 0, 2, 0, 0, 0, 0, 0, 2, 0])"
            ]
          },
          "metadata": {},
          "execution_count": 53
        }
      ]
    },
    {
      "cell_type": "markdown",
      "source": [
        "**K=2**"
      ],
      "metadata": {
        "id": "NbsMuVsHMmcw"
      }
    },
    {
      "cell_type": "code",
      "source": [
        "#KNN\n",
        "from sklearn.neighbors import KNeighborsClassifier\n",
        "knn=KNeighborsClassifier(n_neighbors=5)\n",
        "knn.fit(X_train,Y_train)\n",
        "Y_PredKNN=knn.predict(X_test)\n",
        "accuracy_score(Y_test, Y_PredKNN)\n",
        "\n",
        "# Evaluate\n",
        "print(metrics.confusion_matrix(Y_test, Y_PredKNN))\n",
        "\n",
        "# Print the precision and recall, among other metrics\n",
        "print(metrics.classification_report(Y_test, Y_PredKNN, digits=3))"
      ],
      "metadata": {
        "colab": {
          "base_uri": "https://localhost:8080/"
        },
        "id": "YjtQuwScSmbP",
        "outputId": "7616450b-7b6a-4a97-c51c-65d387d7d6a1"
      },
      "execution_count": null,
      "outputs": [
        {
          "output_type": "stream",
          "name": "stdout",
          "text": [
            "[[30  0  0]\n",
            " [ 1  1  0]\n",
            " [ 2  0  1]]\n",
            "              precision    recall  f1-score   support\n",
            "\n",
            "           0      0.909     1.000     0.952        30\n",
            "           1      1.000     0.500     0.667         2\n",
            "           2      1.000     0.333     0.500         3\n",
            "\n",
            "    accuracy                          0.914        35\n",
            "   macro avg      0.970     0.611     0.706        35\n",
            "weighted avg      0.922     0.914     0.897        35\n",
            "\n"
          ]
        }
      ]
    },
    {
      "cell_type": "markdown",
      "source": [
        "**K=5**"
      ],
      "metadata": {
        "id": "1S7rxOMpMpid"
      }
    },
    {
      "cell_type": "code",
      "source": [
        "#KNN\n",
        "from sklearn.neighbors import KNeighborsClassifier\n",
        "knn=KNeighborsClassifier(n_neighbors=5)\n",
        "knn.fit(X_train,Y_train)\n",
        "Y_PredKNN=knn.predict(X_test)\n",
        "accuracy_score(Y_test, Y_PredKNN)\n",
        "\n",
        "# Evaluate\n",
        "print(metrics.confusion_matrix(Y_test, Y_PredKNN))\n",
        "\n",
        "# Print the precision and recall, among other metrics\n",
        "print(metrics.classification_report(Y_test, Y_PredKNN, digits=3))"
      ],
      "metadata": {
        "id": "2U4zAaGIMt7t",
        "colab": {
          "base_uri": "https://localhost:8080/"
        },
        "outputId": "3e8c219a-8647-45c5-ad6a-dd38ca647e9a"
      },
      "execution_count": null,
      "outputs": [
        {
          "output_type": "stream",
          "name": "stdout",
          "text": [
            "[[30  0  0]\n",
            " [ 1  1  0]\n",
            " [ 2  0  1]]\n",
            "              precision    recall  f1-score   support\n",
            "\n",
            "           0      0.909     1.000     0.952        30\n",
            "           1      1.000     0.500     0.667         2\n",
            "           2      1.000     0.333     0.500         3\n",
            "\n",
            "    accuracy                          0.914        35\n",
            "   macro avg      0.970     0.611     0.706        35\n",
            "weighted avg      0.922     0.914     0.897        35\n",
            "\n"
          ]
        }
      ]
    },
    {
      "cell_type": "markdown",
      "source": [
        "**K=14**"
      ],
      "metadata": {
        "id": "NnChihtvMvJw"
      }
    },
    {
      "cell_type": "code",
      "source": [
        "#KNN\n",
        "from sklearn.neighbors import KNeighborsClassifier\n",
        "knn=KNeighborsClassifier(n_neighbors=14)\n",
        "knn.fit(X_train,Y_train)\n",
        "Y_PredKNN=knn.predict(X_test)\n",
        "accuracy_score(Y_test, Y_PredKNN)\n",
        "\n",
        "# Evaluate\n",
        "print(metrics.confusion_matrix(Y_test, Y_PredKNN))\n",
        "\n",
        "# Print the precision and recall, among other metrics\n",
        "print(metrics.classification_report(Y_test, Y_PredKNN, digits=3))"
      ],
      "metadata": {
        "id": "7Kxm-eCcMxXn",
        "colab": {
          "base_uri": "https://localhost:8080/"
        },
        "outputId": "eeaeb2c4-c16e-4b5a-d7d9-b04e8d31451d"
      },
      "execution_count": null,
      "outputs": [
        {
          "output_type": "stream",
          "name": "stdout",
          "text": [
            "[[30  0  0]\n",
            " [ 1  0  1]\n",
            " [ 1  0  2]]\n",
            "              precision    recall  f1-score   support\n",
            "\n",
            "           0      0.938     1.000     0.968        30\n",
            "           1      0.000     0.000     0.000         2\n",
            "           2      0.667     0.667     0.667         3\n",
            "\n",
            "    accuracy                          0.914        35\n",
            "   macro avg      0.535     0.556     0.545        35\n",
            "weighted avg      0.861     0.914     0.887        35\n",
            "\n"
          ]
        },
        {
          "output_type": "stream",
          "name": "stderr",
          "text": [
            "/usr/local/lib/python3.7/dist-packages/sklearn/metrics/_classification.py:1318: UndefinedMetricWarning: Precision and F-score are ill-defined and being set to 0.0 in labels with no predicted samples. Use `zero_division` parameter to control this behavior.\n",
            "  _warn_prf(average, modifier, msg_start, len(result))\n",
            "/usr/local/lib/python3.7/dist-packages/sklearn/metrics/_classification.py:1318: UndefinedMetricWarning: Precision and F-score are ill-defined and being set to 0.0 in labels with no predicted samples. Use `zero_division` parameter to control this behavior.\n",
            "  _warn_prf(average, modifier, msg_start, len(result))\n",
            "/usr/local/lib/python3.7/dist-packages/sklearn/metrics/_classification.py:1318: UndefinedMetricWarning: Precision and F-score are ill-defined and being set to 0.0 in labels with no predicted samples. Use `zero_division` parameter to control this behavior.\n",
            "  _warn_prf(average, modifier, msg_start, len(result))\n"
          ]
        }
      ]
    },
    {
      "cell_type": "code",
      "source": [
        "cm=confusion_matrix(Y_test, Y_PredKNN)\n",
        "cm"
      ],
      "metadata": {
        "colab": {
          "base_uri": "https://localhost:8080/"
        },
        "id": "TbGqAQvgmk1u",
        "outputId": "237edcc4-0e5d-4d03-88f3-a9a819332b4d"
      },
      "execution_count": null,
      "outputs": [
        {
          "output_type": "execute_result",
          "data": {
            "text/plain": [
              "array([[30,  0,  0],\n",
              "       [ 1,  1,  0],\n",
              "       [ 2,  0,  1]])"
            ]
          },
          "metadata": {},
          "execution_count": 41
        }
      ]
    },
    {
      "cell_type": "code",
      "source": [
        "import seaborn as sns\n",
        "\n",
        "ax = sns.heatmap(cm, annot=True, cmap='Blues')\n",
        "\n",
        "ax.set_title('Confusion Matrix\\n\\n');\n",
        "ax.set_xlabel('\\nPrediksi')\n",
        "ax.set_ylabel('Aktual ');\n",
        "\n",
        "## Ticket labels - List must be in alphabetical order\n",
        "ax.xaxis.set_ticklabels(['Tidak Delay','Delay <= 4 Jam', 'Delay > 4 Jam'])\n",
        "ax.yaxis.set_ticklabels(['Tidak Delay','Delay <= 4 Jam', 'Delay > 4 Jam'])\n",
        "\n",
        "## Display the visualization of the Confusion Matrix.\n",
        "plt.show()"
      ],
      "metadata": {
        "colab": {
          "base_uri": "https://localhost:8080/",
          "height": 337
        },
        "id": "OhAuxE4VlW05",
        "outputId": "bd67abe5-1bb0-4db1-a6d2-c42b47afc8ec"
      },
      "execution_count": null,
      "outputs": [
        {
          "output_type": "display_data",
          "data": {
            "text/plain": [
              "<Figure size 432x288 with 2 Axes>"
            ],
            "image/png": "[encoded data removed]"
          },
          "metadata": {
            "needs_background": "light"
          }
        }
      ]
    },
    {
      "cell_type": "code",
      "source": [
        "classes = {0:'Tidak Delay',1:'Delay <= 4 jam',2:'Delay > 4 Jam'}\n",
        "class_labels = list(classes.values())\n",
        "ax = sns.barplot(knn.predict_proba(X_test), class_labels, palette=\"winter\", orient='h')"
      ],
      "metadata": {
        "id": "DlJayFw-oUz0",
        "colab": {
          "base_uri": "https://localhost:8080/",
          "height": 400
        },
        "outputId": "60777307-7430-47de-8c72-9c6ca13838a3"
      },
      "execution_count": null,
      "outputs": [
        {
          "output_type": "stream",
          "name": "stderr",
          "text": [
            "/usr/local/lib/python3.7/dist-packages/seaborn/_decorators.py:43: FutureWarning: Pass the following variables as keyword args: x, y. From version 0.12, the only valid positional argument will be `data`, and passing other arguments without an explicit keyword will result in an error or misinterpretation.\n",
            "  FutureWarning\n"
          ]
        },
        {
          "output_type": "error",
          "ename": "ValueError",
          "evalue": "ignored",
          "traceback": [
            "\u001b[0;31m---------------------------------------------------------------------------\u001b[0m",
            "\u001b[0;31mValueError\u001b[0m                                Traceback (most recent call last)",
            "\u001b[0;32m<ipython-input-46-c132dcd1bb54>\u001b[0m in \u001b[0;36m<module>\u001b[0;34m()\u001b[0m\n\u001b[1;32m      1\u001b[0m \u001b[0mclasses\u001b[0m \u001b[0;34m=\u001b[0m \u001b[0;34m{\u001b[0m\u001b[0;36m0\u001b[0m\u001b[0;34m:\u001b[0m\u001b[0;34m'Tidak Delay'\u001b[0m\u001b[0;34m,\u001b[0m\u001b[0;36m1\u001b[0m\u001b[0;34m:\u001b[0m\u001b[0;34m'Delay <= 4 jam'\u001b[0m\u001b[0;34m,\u001b[0m\u001b[0;36m2\u001b[0m\u001b[0;34m:\u001b[0m\u001b[0;34m'Delay > 4 Jam'\u001b[0m\u001b[0;34m}\u001b[0m\u001b[0;34m\u001b[0m\u001b[0;34m\u001b[0m\u001b[0m\n\u001b[1;32m      2\u001b[0m \u001b[0mclass_labels\u001b[0m \u001b[0;34m=\u001b[0m \u001b[0mlist\u001b[0m\u001b[0;34m(\u001b[0m\u001b[0mclasses\u001b[0m\u001b[0;34m.\u001b[0m\u001b[0mvalues\u001b[0m\u001b[0;34m(\u001b[0m\u001b[0;34m)\u001b[0m\u001b[0;34m)\u001b[0m\u001b[0;34m\u001b[0m\u001b[0;34m\u001b[0m\u001b[0m\n\u001b[0;32m----> 3\u001b[0;31m \u001b[0max\u001b[0m \u001b[0;34m=\u001b[0m \u001b[0msns\u001b[0m\u001b[0;34m.\u001b[0m\u001b[0mbarplot\u001b[0m\u001b[0;34m(\u001b[0m\u001b[0mknn\u001b[0m\u001b[0;34m.\u001b[0m\u001b[0mpredict_proba\u001b[0m\u001b[0;34m(\u001b[0m\u001b[0mX_test\u001b[0m\u001b[0;34m)\u001b[0m\u001b[0;34m,\u001b[0m \u001b[0mclass_labels\u001b[0m\u001b[0;34m,\u001b[0m \u001b[0mpalette\u001b[0m\u001b[0;34m=\u001b[0m\u001b[0;34m\"winter\"\u001b[0m\u001b[0;34m,\u001b[0m \u001b[0morient\u001b[0m\u001b[0;34m=\u001b[0m\u001b[0;34m'h'\u001b[0m\u001b[0;34m)\u001b[0m\u001b[0;34m\u001b[0m\u001b[0;34m\u001b[0m\u001b[0m\n\u001b[0m",
            "\u001b[0;32m/usr/local/lib/python3.7/dist-packages/seaborn/_decorators.py\u001b[0m in \u001b[0;36minner_f\u001b[0;34m(*args, **kwargs)\u001b[0m\n\u001b[1;32m     44\u001b[0m             )\n\u001b[1;32m     45\u001b[0m         \u001b[0mkwargs\u001b[0m\u001b[0;34m.\u001b[0m\u001b[0mupdate\u001b[0m\u001b[0;34m(\u001b[0m\u001b[0;34m{\u001b[0m\u001b[0mk\u001b[0m\u001b[0;34m:\u001b[0m \u001b[0marg\u001b[0m \u001b[0;32mfor\u001b[0m \u001b[0mk\u001b[0m\u001b[0;34m,\u001b[0m \u001b[0marg\u001b[0m \u001b[0;32min\u001b[0m \u001b[0mzip\u001b[0m\u001b[0;34m(\u001b[0m\u001b[0msig\u001b[0m\u001b[0;34m.\u001b[0m\u001b[0mparameters\u001b[0m\u001b[0;34m,\u001b[0m \u001b[0margs\u001b[0m\u001b[0;34m)\u001b[0m\u001b[0;34m}\u001b[0m\u001b[0;34m)\u001b[0m\u001b[0;34m\u001b[0m\u001b[0;34m\u001b[0m\u001b[0m\n\u001b[0;32m---> 46\u001b[0;31m         \u001b[0;32mreturn\u001b[0m \u001b[0mf\u001b[0m\u001b[0;34m(\u001b[0m\u001b[0;34m**\u001b[0m\u001b[0mkwargs\u001b[0m\u001b[0;34m)\u001b[0m\u001b[0;34m\u001b[0m\u001b[0;34m\u001b[0m\u001b[0m\n\u001b[0m\u001b[1;32m     47\u001b[0m     \u001b[0;32mreturn\u001b[0m \u001b[0minner_f\u001b[0m\u001b[0;34m\u001b[0m\u001b[0;34m\u001b[0m\u001b[0m\n\u001b[1;32m     48\u001b[0m \u001b[0;34m\u001b[0m\u001b[0m\n",
            "\u001b[0;32m/usr/local/lib/python3.7/dist-packages/seaborn/categorical.py\u001b[0m in \u001b[0;36mbarplot\u001b[0;34m(x, y, hue, data, order, hue_order, estimator, ci, n_boot, units, seed, orient, color, palette, saturation, errcolor, errwidth, capsize, dodge, ax, **kwargs)\u001b[0m\n\u001b[1;32m   3183\u001b[0m                           \u001b[0mestimator\u001b[0m\u001b[0;34m,\u001b[0m \u001b[0mci\u001b[0m\u001b[0;34m,\u001b[0m \u001b[0mn_boot\u001b[0m\u001b[0;34m,\u001b[0m \u001b[0munits\u001b[0m\u001b[0;34m,\u001b[0m \u001b[0mseed\u001b[0m\u001b[0;34m,\u001b[0m\u001b[0;34m\u001b[0m\u001b[0;34m\u001b[0m\u001b[0m\n\u001b[1;32m   3184\u001b[0m                           \u001b[0morient\u001b[0m\u001b[0;34m,\u001b[0m \u001b[0mcolor\u001b[0m\u001b[0;34m,\u001b[0m \u001b[0mpalette\u001b[0m\u001b[0;34m,\u001b[0m \u001b[0msaturation\u001b[0m\u001b[0;34m,\u001b[0m\u001b[0;34m\u001b[0m\u001b[0;34m\u001b[0m\u001b[0m\n\u001b[0;32m-> 3185\u001b[0;31m                           errcolor, errwidth, capsize, dodge)\n\u001b[0m\u001b[1;32m   3186\u001b[0m \u001b[0;34m\u001b[0m\u001b[0m\n\u001b[1;32m   3187\u001b[0m     \u001b[0;32mif\u001b[0m \u001b[0max\u001b[0m \u001b[0;32mis\u001b[0m \u001b[0;32mNone\u001b[0m\u001b[0;34m:\u001b[0m\u001b[0;34m\u001b[0m\u001b[0;34m\u001b[0m\u001b[0m\n",
            "\u001b[0;32m/usr/local/lib/python3.7/dist-packages/seaborn/categorical.py\u001b[0m in \u001b[0;36m__init__\u001b[0;34m(self, x, y, hue, data, order, hue_order, estimator, ci, n_boot, units, seed, orient, color, palette, saturation, errcolor, errwidth, capsize, dodge)\u001b[0m\n\u001b[1;32m   1583\u001b[0m         \u001b[0;34m\"\"\"Initialize the plotter.\"\"\"\u001b[0m\u001b[0;34m\u001b[0m\u001b[0;34m\u001b[0m\u001b[0m\n\u001b[1;32m   1584\u001b[0m         self.establish_variables(x, y, hue, data, orient,\n\u001b[0;32m-> 1585\u001b[0;31m                                  order, hue_order, units)\n\u001b[0m\u001b[1;32m   1586\u001b[0m         \u001b[0mself\u001b[0m\u001b[0;34m.\u001b[0m\u001b[0mestablish_colors\u001b[0m\u001b[0;34m(\u001b[0m\u001b[0mcolor\u001b[0m\u001b[0;34m,\u001b[0m \u001b[0mpalette\u001b[0m\u001b[0;34m,\u001b[0m \u001b[0msaturation\u001b[0m\u001b[0;34m)\u001b[0m\u001b[0;34m\u001b[0m\u001b[0;34m\u001b[0m\u001b[0m\n\u001b[1;32m   1587\u001b[0m         \u001b[0mself\u001b[0m\u001b[0;34m.\u001b[0m\u001b[0mestimate_statistic\u001b[0m\u001b[0;34m(\u001b[0m\u001b[0mestimator\u001b[0m\u001b[0;34m,\u001b[0m \u001b[0mci\u001b[0m\u001b[0;34m,\u001b[0m \u001b[0mn_boot\u001b[0m\u001b[0;34m,\u001b[0m \u001b[0mseed\u001b[0m\u001b[0;34m)\u001b[0m\u001b[0;34m\u001b[0m\u001b[0;34m\u001b[0m\u001b[0m\n",
            "\u001b[0;32m/usr/local/lib/python3.7/dist-packages/seaborn/categorical.py\u001b[0m in \u001b[0;36mestablish_variables\u001b[0;34m(self, x, y, hue, data, orient, order, hue_order, units)\u001b[0m\n\u001b[1;32m    205\u001b[0m                 \u001b[0;31m# Group the numeric data\u001b[0m\u001b[0;34m\u001b[0m\u001b[0;34m\u001b[0m\u001b[0;34m\u001b[0m\u001b[0m\n\u001b[1;32m    206\u001b[0m                 plot_data, value_label = self._group_longform(vals, groups,\n\u001b[0;32m--> 207\u001b[0;31m                                                               group_names)\n\u001b[0m\u001b[1;32m    208\u001b[0m \u001b[0;34m\u001b[0m\u001b[0m\n\u001b[1;32m    209\u001b[0m                 \u001b[0;31m# Now handle the hue levels for nested ordering\u001b[0m\u001b[0;34m\u001b[0m\u001b[0;34m\u001b[0m\u001b[0;34m\u001b[0m\u001b[0m\n",
            "\u001b[0;32m/usr/local/lib/python3.7/dist-packages/seaborn/categorical.py\u001b[0m in \u001b[0;36m_group_longform\u001b[0;34m(self, vals, grouper, order)\u001b[0m\n\u001b[1;32m    248\u001b[0m             \u001b[0;32melse\u001b[0m\u001b[0;34m:\u001b[0m\u001b[0;34m\u001b[0m\u001b[0;34m\u001b[0m\u001b[0m\n\u001b[1;32m    249\u001b[0m                 \u001b[0mindex\u001b[0m \u001b[0;34m=\u001b[0m \u001b[0;32mNone\u001b[0m\u001b[0;34m\u001b[0m\u001b[0;34m\u001b[0m\u001b[0m\n\u001b[0;32m--> 250\u001b[0;31m             \u001b[0mvals\u001b[0m \u001b[0;34m=\u001b[0m \u001b[0mpd\u001b[0m\u001b[0;34m.\u001b[0m\u001b[0mSeries\u001b[0m\u001b[0;34m(\u001b[0m\u001b[0mvals\u001b[0m\u001b[0;34m,\u001b[0m \u001b[0mindex\u001b[0m\u001b[0;34m=\u001b[0m\u001b[0mindex\u001b[0m\u001b[0;34m)\u001b[0m\u001b[0;34m\u001b[0m\u001b[0;34m\u001b[0m\u001b[0m\n\u001b[0m\u001b[1;32m    251\u001b[0m \u001b[0;34m\u001b[0m\u001b[0m\n\u001b[1;32m    252\u001b[0m         \u001b[0;31m# Group the val data\u001b[0m\u001b[0;34m\u001b[0m\u001b[0;34m\u001b[0m\u001b[0;34m\u001b[0m\u001b[0m\n",
            "\u001b[0;32m/usr/local/lib/python3.7/dist-packages/pandas/core/series.py\u001b[0m in \u001b[0;36m__init__\u001b[0;34m(self, data, index, dtype, name, copy, fastpath)\u001b[0m\n\u001b[1;32m    437\u001b[0m                     \u001b[0mdata\u001b[0m \u001b[0;34m=\u001b[0m \u001b[0mdata\u001b[0m\u001b[0;34m.\u001b[0m\u001b[0mcopy\u001b[0m\u001b[0;34m(\u001b[0m\u001b[0;34m)\u001b[0m\u001b[0;34m\u001b[0m\u001b[0;34m\u001b[0m\u001b[0m\n\u001b[1;32m    438\u001b[0m             \u001b[0;32melse\u001b[0m\u001b[0;34m:\u001b[0m\u001b[0;34m\u001b[0m\u001b[0;34m\u001b[0m\u001b[0m\n\u001b[0;32m--> 439\u001b[0;31m                 \u001b[0mdata\u001b[0m \u001b[0;34m=\u001b[0m \u001b[0msanitize_array\u001b[0m\u001b[0;34m(\u001b[0m\u001b[0mdata\u001b[0m\u001b[0;34m,\u001b[0m \u001b[0mindex\u001b[0m\u001b[0;34m,\u001b[0m \u001b[0mdtype\u001b[0m\u001b[0;34m,\u001b[0m \u001b[0mcopy\u001b[0m\u001b[0;34m)\u001b[0m\u001b[0;34m\u001b[0m\u001b[0;34m\u001b[0m\u001b[0m\n\u001b[0m\u001b[1;32m    440\u001b[0m \u001b[0;34m\u001b[0m\u001b[0m\n\u001b[1;32m    441\u001b[0m                 \u001b[0mmanager\u001b[0m \u001b[0;34m=\u001b[0m \u001b[0mget_option\u001b[0m\u001b[0;34m(\u001b[0m\u001b[0;34m\"mode.data_manager\"\u001b[0m\u001b[0;34m)\u001b[0m\u001b[0;34m\u001b[0m\u001b[0;34m\u001b[0m\u001b[0m\n",
            "\u001b[0;32m/usr/local/lib/python3.7/dist-packages/pandas/core/construction.py\u001b[0m in \u001b[0;36msanitize_array\u001b[0;34m(data, index, dtype, copy, raise_cast_failure, allow_2d)\u001b[0m\n\u001b[1;32m    574\u001b[0m                 \u001b[0msubarr\u001b[0m \u001b[0;34m=\u001b[0m \u001b[0mmaybe_infer_to_datetimelike\u001b[0m\u001b[0;34m(\u001b[0m\u001b[0msubarr\u001b[0m\u001b[0;34m)\u001b[0m\u001b[0;34m\u001b[0m\u001b[0;34m\u001b[0m\u001b[0m\n\u001b[1;32m    575\u001b[0m \u001b[0;34m\u001b[0m\u001b[0m\n\u001b[0;32m--> 576\u001b[0;31m     \u001b[0msubarr\u001b[0m \u001b[0;34m=\u001b[0m \u001b[0m_sanitize_ndim\u001b[0m\u001b[0;34m(\u001b[0m\u001b[0msubarr\u001b[0m\u001b[0;34m,\u001b[0m \u001b[0mdata\u001b[0m\u001b[0;34m,\u001b[0m \u001b[0mdtype\u001b[0m\u001b[0;34m,\u001b[0m \u001b[0mindex\u001b[0m\u001b[0;34m,\u001b[0m \u001b[0mallow_2d\u001b[0m\u001b[0;34m=\u001b[0m\u001b[0mallow_2d\u001b[0m\u001b[0;34m)\u001b[0m\u001b[0;34m\u001b[0m\u001b[0;34m\u001b[0m\u001b[0m\n\u001b[0m\u001b[1;32m    577\u001b[0m \u001b[0;34m\u001b[0m\u001b[0m\n\u001b[1;32m    578\u001b[0m     \u001b[0;32mif\u001b[0m \u001b[0misinstance\u001b[0m\u001b[0;34m(\u001b[0m\u001b[0msubarr\u001b[0m\u001b[0;34m,\u001b[0m \u001b[0mnp\u001b[0m\u001b[0;34m.\u001b[0m\u001b[0mndarray\u001b[0m\u001b[0;34m)\u001b[0m\u001b[0;34m:\u001b[0m\u001b[0;34m\u001b[0m\u001b[0;34m\u001b[0m\u001b[0m\n",
            "\u001b[0;32m/usr/local/lib/python3.7/dist-packages/pandas/core/construction.py\u001b[0m in \u001b[0;36m_sanitize_ndim\u001b[0;34m(result, data, dtype, index, allow_2d)\u001b[0m\n\u001b[1;32m    625\u001b[0m             \u001b[0;32mif\u001b[0m \u001b[0mallow_2d\u001b[0m\u001b[0;34m:\u001b[0m\u001b[0;34m\u001b[0m\u001b[0;34m\u001b[0m\u001b[0m\n\u001b[1;32m    626\u001b[0m                 \u001b[0;32mreturn\u001b[0m \u001b[0mresult\u001b[0m\u001b[0;34m\u001b[0m\u001b[0;34m\u001b[0m\u001b[0m\n\u001b[0;32m--> 627\u001b[0;31m             \u001b[0;32mraise\u001b[0m \u001b[0mValueError\u001b[0m\u001b[0;34m(\u001b[0m\u001b[0;34m\"Data must be 1-dimensional\"\u001b[0m\u001b[0;34m)\u001b[0m\u001b[0;34m\u001b[0m\u001b[0;34m\u001b[0m\u001b[0m\n\u001b[0m\u001b[1;32m    628\u001b[0m         \u001b[0;32mif\u001b[0m \u001b[0mis_object_dtype\u001b[0m\u001b[0;34m(\u001b[0m\u001b[0mdtype\u001b[0m\u001b[0;34m)\u001b[0m \u001b[0;32mand\u001b[0m \u001b[0misinstance\u001b[0m\u001b[0;34m(\u001b[0m\u001b[0mdtype\u001b[0m\u001b[0;34m,\u001b[0m \u001b[0mExtensionDtype\u001b[0m\u001b[0;34m)\u001b[0m\u001b[0;34m:\u001b[0m\u001b[0;34m\u001b[0m\u001b[0;34m\u001b[0m\u001b[0m\n\u001b[1;32m    629\u001b[0m             \u001b[0;31m# i.e. PandasDtype(\"O\")\u001b[0m\u001b[0;34m\u001b[0m\u001b[0;34m\u001b[0m\u001b[0;34m\u001b[0m\u001b[0m\n",
            "\u001b[0;31mValueError\u001b[0m: Data must be 1-dimensional"
          ]
        }
      ]
    },
    {
      "cell_type": "code",
      "source": [
        "error = []\n",
        "\n",
        "# Calculating error for K values between 1 and 40\n",
        "for i in range(1, 40):\n",
        "    knn = KNeighborsClassifier(n_neighbors=i)\n",
        "    knn.fit(X_train, Y_train)\n",
        "    pred_i = knn.predict(X_test)\n",
        "    error.append(np.mean(pred_i != Y_test))"
      ],
      "metadata": {
        "id": "RqakKpZVSLu-"
      },
      "execution_count": null,
      "outputs": []
    },
    {
      "cell_type": "code",
      "source": [
        "import matplotlib.pyplot as plt\n",
        "plt.figure(figsize=(12, 6))\n",
        "plt.plot(range(1, 40), error, color='red', linestyle='dashed', marker='o',\n",
        "         markerfacecolor='blue', markersize=10)\n",
        "plt.title('Error Rate Nilai K')\n",
        "plt.xlabel('Nilai K')\n",
        "plt.ylabel('Error rata-rata')"
      ],
      "metadata": {
        "colab": {
          "base_uri": "https://localhost:8080/",
          "height": 366
        },
        "id": "VBipQJBdSZhe",
        "outputId": "744b44a4-83a2-4a98-aa08-3946225e3ca1"
      },
      "execution_count": null,
      "outputs": [
        {
          "output_type": "execute_result",
          "data": {
            "text/plain": [
              "Text(0, 0.5, 'Error rata-rata')"
            ]
          },
          "metadata": {},
          "execution_count": 10
        },
        {
          "output_type": "display_data",
          "data": {
            "text/plain": [
              "<Figure size 864x432 with 1 Axes>"
            ],
            "image/png": "[encoded data removed]"
          },
          "metadata": {
            "needs_background": "light"
          }
        }
      ]
    },
    {
      "cell_type": "code",
      "source": [
        "\n",
        "    st.write(\"The predicted class is \",result)\n",
        "    Y_PredKNN = [np.round(x,2) for x in Y_PredKNN]\n",
        "    ax = sns.barplot(Y_PredKNN ,class_labels, palette=\"winter\", orient='h')\n",
        "    ax.set_yticklabels(class_labels,rotation=0)\n",
        "    plt.title(\"Probabilities of the Data belonging to each class\")\n",
        "    for index, value in enumerate(probs):\n",
        "        plt.text(value, index,str(value))"
      ],
      "metadata": {
        "id": "Tw4W1yeAcfcQ"
      },
      "execution_count": null,
      "outputs": []
    },
    {
      "cell_type": "markdown",
      "source": [
        "**KNN DATA TRAIN CEK OVER FITTING**"
      ],
      "metadata": {
        "id": "07v_L0OwFTaO"
      }
    },
    {
      "cell_type": "code",
      "source": [
        "#KNN train\n",
        "from sklearn.neighbors import KNeighborsClassifier\n",
        "knn=KNeighborsClassifier(n_neighbors=5)\n",
        "knn.fit(X_train,Y_train)\n",
        "Y_PredKNN=knn.predict(X_train)\n",
        "accuracy_score(Y_train, Y_PredKNN)\n",
        "\n",
        "# Evaluate\n",
        "print(metrics.confusion_matrix(Y_train, Y_PredKNN))\n",
        "\n",
        "# Print the precision and recall, among other metrics\n",
        "print(metrics.classification_report(Y_train, Y_PredKNN, digits=3))"
      ],
      "metadata": {
        "colab": {
          "base_uri": "https://localhost:8080/"
        },
        "id": "gdwMvXCnoLa4",
        "outputId": "0db15fc5-c073-43c2-ef52-084831490306"
      },
      "execution_count": null,
      "outputs": [
        {
          "output_type": "stream",
          "name": "stdout",
          "text": [
            "[[96  0  1]\n",
            " [ 4  0  2]\n",
            " [24  0  9]]\n",
            "              precision    recall  f1-score   support\n",
            "\n",
            "           0      0.774     0.990     0.869        97\n",
            "           1      0.000     0.000     0.000         6\n",
            "           2      0.750     0.273     0.400        33\n",
            "\n",
            "    accuracy                          0.772       136\n",
            "   macro avg      0.508     0.421     0.423       136\n",
            "weighted avg      0.734     0.772     0.717       136\n",
            "\n"
          ]
        },
        {
          "output_type": "stream",
          "name": "stderr",
          "text": [
            "/usr/local/lib/python3.7/dist-packages/sklearn/metrics/_classification.py:1318: UndefinedMetricWarning: Precision and F-score are ill-defined and being set to 0.0 in labels with no predicted samples. Use `zero_division` parameter to control this behavior.\n",
            "  _warn_prf(average, modifier, msg_start, len(result))\n",
            "/usr/local/lib/python3.7/dist-packages/sklearn/metrics/_classification.py:1318: UndefinedMetricWarning: Precision and F-score are ill-defined and being set to 0.0 in labels with no predicted samples. Use `zero_division` parameter to control this behavior.\n",
            "  _warn_prf(average, modifier, msg_start, len(result))\n",
            "/usr/local/lib/python3.7/dist-packages/sklearn/metrics/_classification.py:1318: UndefinedMetricWarning: Precision and F-score are ill-defined and being set to 0.0 in labels with no predicted samples. Use `zero_division` parameter to control this behavior.\n",
            "  _warn_prf(average, modifier, msg_start, len(result))\n"
          ]
        }
      ]
    },
    {
      "cell_type": "code",
      "source": [
        "knn.predict(X_test)"
      ],
      "metadata": {
        "colab": {
          "base_uri": "https://localhost:8080/"
        },
        "id": "E5d7tUnV2IDm",
        "outputId": "38b68d80-248d-4fba-af3b-9a276a3579b2"
      },
      "execution_count": null,
      "outputs": [
        {
          "output_type": "execute_result",
          "data": {
            "text/plain": [
              "array([0, 0, 0, 0, 0, 0, 0, 0, 0, 0, 0, 0, 0, 0, 0, 0, 0, 0, 0, 2, 0, 0,\n",
              "       0, 2, 0, 0, 0, 0, 0, 0, 0, 0, 0, 0, 0, 0, 1, 0, 0, 0, 0, 2, 0, 0,\n",
              "       0, 0, 0, 0, 0, 0, 0, 0])"
            ]
          },
          "metadata": {},
          "execution_count": 25
        }
      ]
    },
    {
      "cell_type": "code",
      "source": [
        "knn.predict_proba(X_test)"
      ],
      "metadata": {
        "colab": {
          "base_uri": "https://localhost:8080/"
        },
        "id": "7FgfZg0j1w-g",
        "outputId": "4f14afa2-5436-4b44-b615-593253db5eef"
      },
      "execution_count": null,
      "outputs": [
        {
          "output_type": "execute_result",
          "data": {
            "text/plain": [
              "array([[0.2, 0.2, 0.6],\n",
              "       [0.8, 0. , 0.2],\n",
              "       [1. , 0. , 0. ],\n",
              "       [0.8, 0. , 0.2],\n",
              "       [1. , 0. , 0. ],\n",
              "       [0.8, 0. , 0.2],\n",
              "       [0.6, 0. , 0.4],\n",
              "       [0.8, 0. , 0.2],\n",
              "       [1. , 0. , 0. ],\n",
              "       [1. , 0. , 0. ],\n",
              "       [0.4, 0.2, 0.4],\n",
              "       [1. , 0. , 0. ],\n",
              "       [0.6, 0.2, 0.2],\n",
              "       [0.6, 0. , 0.4],\n",
              "       [0.6, 0. , 0.4],\n",
              "       [0.6, 0. , 0.4],\n",
              "       [0.8, 0.2, 0. ],\n",
              "       [1. , 0. , 0. ],\n",
              "       [0.8, 0.2, 0. ],\n",
              "       [0.8, 0. , 0.2],\n",
              "       [0.8, 0. , 0.2],\n",
              "       [0.8, 0. , 0.2],\n",
              "       [1. , 0. , 0. ],\n",
              "       [0.2, 0.4, 0.4],\n",
              "       [0.8, 0. , 0.2],\n",
              "       [0.8, 0.2, 0. ],\n",
              "       [1. , 0. , 0. ],\n",
              "       [1. , 0. , 0. ],\n",
              "       [0.8, 0.2, 0. ],\n",
              "       [1. , 0. , 0. ],\n",
              "       [1. , 0. , 0. ],\n",
              "       [0.8, 0. , 0.2],\n",
              "       [1. , 0. , 0. ],\n",
              "       [1. , 0. , 0. ],\n",
              "       [0.6, 0. , 0.4]])"
            ]
          },
          "metadata": {},
          "execution_count": 11
        }
      ]
    },
    {
      "cell_type": "markdown",
      "source": [
        "PREDIKSI DATA BARU"
      ],
      "metadata": {
        "id": "_FD5341XcyiW"
      }
    },
    {
      "cell_type": "code",
      "source": [
        "df = pd.DataFrame(data={\"DERMAGA\": [3], \"JENIS_KAPAL\" : [1], \"BD\" : [11], \"PALKA\" : [27], \"SHIFTING_YARD\" : [295],\n",
        "                        \"WAG\" : [0], \"BAD_WEATHER\" : [398], \"JUMLAH_CC\" : [3], \"DISCHARGE\" : [1418], \"LOADING\" : [1020]})"
      ],
      "metadata": {
        "id": "SAsS75zdV9CQ"
      },
      "execution_count": null,
      "outputs": []
    },
    {
      "cell_type": "code",
      "source": [
        "new=df.values\n",
        "X = new[:, 0:10]"
      ],
      "metadata": {
        "id": "TUcaSIWOWDzP"
      },
      "execution_count": null,
      "outputs": []
    },
    {
      "cell_type": "code",
      "source": [
        "df.info()"
      ],
      "metadata": {
        "colab": {
          "base_uri": "https://localhost:8080/"
        },
        "id": "eEopsfQObpY6",
        "outputId": "f9ae02c1-6de3-446f-8c98-9a1a7a0aa35d"
      },
      "execution_count": null,
      "outputs": [
        {
          "output_type": "stream",
          "name": "stdout",
          "text": [
            "<class 'pandas.core.frame.DataFrame'>\n",
            "RangeIndex: 1 entries, 0 to 0\n",
            "Data columns (total 10 columns):\n",
            " #   Column         Non-Null Count  Dtype\n",
            "---  ------         --------------  -----\n",
            " 0   DERMAGA        1 non-null      int64\n",
            " 1   JENIS_KAPAL    1 non-null      int64\n",
            " 2   BD             1 non-null      int64\n",
            " 3   PALKA          1 non-null      int64\n",
            " 4   SHIFTING_YARD  1 non-null      int64\n",
            " 5   WAG            1 non-null      int64\n",
            " 6   BAD_WEATHER    1 non-null      int64\n",
            " 7   JUMLAH_CC      1 non-null      int64\n",
            " 8   DISCHARGE      1 non-null      int64\n",
            " 9   LOADING        1 non-null      int64\n",
            "dtypes: int64(10)\n",
            "memory usage: 208.0 bytes\n"
          ]
        }
      ]
    },
    {
      "cell_type": "code",
      "source": [
        "df[\"DERMAGA\"]=df[\"DERMAGA\"].astype('category')\n",
        "df[\"JENIS_KAPAL\"]=df[\"JENIS_KAPAL\"].astype('category')"
      ],
      "metadata": {
        "id": "xZIOcpu-bVis"
      },
      "execution_count": null,
      "outputs": []
    },
    {
      "cell_type": "code",
      "source": [
        "hasil = knn.predict(X)\n",
        "if hasil == 0:\n",
        "  print (\"Kapal Tidak Mengalami Delay Keberangkatan\")\n",
        "elif hasil == 1:\n",
        "  print (\"Kapal Delay < 4 Jam\")\n",
        "else:\n",
        "  print (\"Kapal Delay > 4 Jam\")"
      ],
      "metadata": {
        "colab": {
          "base_uri": "https://localhost:8080/"
        },
        "id": "x4w8sEBZb2Nr",
        "outputId": "1f196a17-6be6-46a0-d934-3fab2d55b5dd"
      },
      "execution_count": null,
      "outputs": [
        {
          "output_type": "stream",
          "name": "stdout",
          "text": [
            "Kapal Tidak Mengalami Delay Keberangkatan\n"
          ]
        }
      ]
    },
    {
      "cell_type": "code",
      "metadata": {
        "id": "qCO_IYtr4jej"
      },
      "source": [
        "from sklearn.inspection import permutation_importance\n",
        "from matplotlib import pyplot"
      ],
      "execution_count": null,
      "outputs": []
    },
    {
      "cell_type": "code",
      "source": [
        "# perform permutation importance\n",
        "results = permutation_importance(knn.fit(X_train,Y_train), X_train,Y_train, scoring='accuracy')"
      ],
      "metadata": {
        "id": "RM0y9NUC0JOT"
      },
      "execution_count": null,
      "outputs": []
    },
    {
      "cell_type": "code",
      "source": [
        "# get importance\n",
        "importance = results.importances_mean\n",
        "importance"
      ],
      "metadata": {
        "colab": {
          "base_uri": "https://localhost:8080/"
        },
        "id": "CvQRQrjP0agM",
        "outputId": "d87b984a-d5fb-4df8-8b5c-8d1551518fe6"
      },
      "execution_count": null,
      "outputs": [
        {
          "output_type": "execute_result",
          "data": {
            "text/plain": [
              "array([0.        , 0.        , 0.        , 0.025     , 0.00441176,\n",
              "       0.01617647, 0.00588235, 0.        , 0.09705882, 0.07205882])"
            ]
          },
          "metadata": {},
          "execution_count": 19
        }
      ]
    },
    {
      "cell_type": "code",
      "source": [
        "# summarize feature importance\n",
        "for i,v in enumerate(importance):\n",
        "    print('Feature: %0d, Score: %.5f' % (i,v))\n",
        "# plot feature importance\n",
        "pyplot.bar([x for x in range(len(importance))], importance)\n",
        "pyplot.show()"
      ],
      "metadata": {
        "id": "Po6Pa8DN0iLJ",
        "outputId": "8a6db03c-8d60-4e48-bc8d-105e2edaafdb",
        "colab": {
          "base_uri": "https://localhost:8080/",
          "height": 439
        }
      },
      "execution_count": null,
      "outputs": [
        {
          "output_type": "stream",
          "name": "stdout",
          "text": [
            "Feature: 0, Score: 0.00000\n",
            "Feature: 1, Score: 0.00000\n",
            "Feature: 2, Score: 0.00000\n",
            "Feature: 3, Score: 0.02500\n",
            "Feature: 4, Score: 0.00441\n",
            "Feature: 5, Score: 0.01618\n",
            "Feature: 6, Score: 0.00588\n",
            "Feature: 7, Score: 0.00000\n",
            "Feature: 8, Score: 0.09706\n",
            "Feature: 9, Score: 0.07206\n"
          ]
        },
        {
          "output_type": "display_data",
          "data": {
            "text/plain": [
              "<Figure size 432x288 with 1 Axes>"
            ],
            "image/png": "[encoded data removed]"
          },
          "metadata": {
            "needs_background": "light"
          }
        }
      ]
    },
    {
      "cell_type": "markdown",
      "source": [
        "**NBC**"
      ],
      "metadata": {
        "id": "hXEq0aeD-ftP"
      }
    },
    {
      "cell_type": "code",
      "source": [
        "#NAIVE\n",
        "from sklearn.naive_bayes import GaussianNB\n",
        "from sklearn.metrics import accuracy_score\n",
        "model=GaussianNB()\n",
        "model.fit(X_train, Y_train)\n",
        "Y_pred=model.predict(X_test)\n",
        "accuracy_score(Y_test, Y_pred)\n",
        "# Evaluate\n",
        "print(metrics.confusion_matrix(Y_test, Y_pred))\n",
        "\n",
        "# Print the precision and recall, among other metrics\n",
        "print(metrics.classification_report(Y_test, Y_pred, digits=3))"
      ],
      "metadata": {
        "colab": {
          "base_uri": "https://localhost:8080/"
        },
        "id": "5c7l2qTsY-Qt",
        "outputId": "883e81c2-bfc7-4945-c6c7-e789988e3580"
      },
      "execution_count": null,
      "outputs": [
        {
          "output_type": "stream",
          "name": "stdout",
          "text": [
            "[[39  1  3]\n",
            " [ 1  0  0]\n",
            " [ 5  1  2]]\n",
            "              precision    recall  f1-score   support\n",
            "\n",
            "           0      0.867     0.907     0.886        43\n",
            "           1      0.000     0.000     0.000         1\n",
            "           2      0.400     0.250     0.308         8\n",
            "\n",
            "    accuracy                          0.788        52\n",
            "   macro avg      0.422     0.386     0.398        52\n",
            "weighted avg      0.778     0.788     0.780        52\n",
            "\n"
          ]
        }
      ]
    },
    {
      "cell_type": "markdown",
      "source": [
        "# Bagian Baru"
      ],
      "metadata": {
        "id": "vxTA6XY0EFs0"
      }
    },
    {
      "cell_type": "markdown",
      "source": [
        "**NBC BAGGING**"
      ],
      "metadata": {
        "id": "RjWAunF2-lJc"
      }
    },
    {
      "cell_type": "code",
      "source": [
        "from pandas.core.common import random_state\n",
        "from sklearn.ensemble import BaggingClassifier\n",
        "h=BaggingClassifier(GaussianNB(),n_estimators = 10, max_features = 1, max_samples=0.5, random_state=0)"
      ],
      "metadata": {
        "id": "fKpJCUFpZkh4"
      },
      "execution_count": null,
      "outputs": []
    },
    {
      "cell_type": "code",
      "source": [
        "#AKURASI BAGGING\n",
        "h.fit(X_train,Y_train)\n",
        "Y_pred=h.predict(X_test)\n",
        "accuracy_score(Y_test, Y_pred)\n",
        "# Evaluate\n",
        "print(metrics.confusion_matrix(Y_test, Y_pred))\n",
        "\n",
        "# Print the precision and recall, among other metrics\n",
        "print(metrics.classification_report(Y_test, Y_pred, digits=3))"
      ],
      "metadata": {
        "colab": {
          "base_uri": "https://localhost:8080/"
        },
        "id": "E_vaxBfW-wvG",
        "outputId": "474a62f5-2655-451b-f917-2b1a031fdf36"
      },
      "execution_count": null,
      "outputs": [
        {
          "output_type": "stream",
          "name": "stdout",
          "text": [
            "[[43  0  0]\n",
            " [ 1  0  0]\n",
            " [ 8  0  0]]\n",
            "              precision    recall  f1-score   support\n",
            "\n",
            "           0      0.827     1.000     0.905        43\n",
            "           1      0.000     0.000     0.000         1\n",
            "           2      0.000     0.000     0.000         8\n",
            "\n",
            "    accuracy                          0.827        52\n",
            "   macro avg      0.276     0.333     0.302        52\n",
            "weighted avg      0.684     0.827     0.749        52\n",
            "\n"
          ]
        },
        {
          "output_type": "stream",
          "name": "stderr",
          "text": [
            "/usr/local/lib/python3.7/dist-packages/sklearn/metrics/_classification.py:1318: UndefinedMetricWarning: Precision and F-score are ill-defined and being set to 0.0 in labels with no predicted samples. Use `zero_division` parameter to control this behavior.\n",
            "  _warn_prf(average, modifier, msg_start, len(result))\n",
            "/usr/local/lib/python3.7/dist-packages/sklearn/metrics/_classification.py:1318: UndefinedMetricWarning: Precision and F-score are ill-defined and being set to 0.0 in labels with no predicted samples. Use `zero_division` parameter to control this behavior.\n",
            "  _warn_prf(average, modifier, msg_start, len(result))\n",
            "/usr/local/lib/python3.7/dist-packages/sklearn/metrics/_classification.py:1318: UndefinedMetricWarning: Precision and F-score are ill-defined and being set to 0.0 in labels with no predicted samples. Use `zero_division` parameter to control this behavior.\n",
            "  _warn_prf(average, modifier, msg_start, len(result))\n"
          ]
        }
      ]
    }
  ]
}